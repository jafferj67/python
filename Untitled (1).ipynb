{
 "cells": [
  {
   "cell_type": "code",
   "execution_count": 2,
   "id": "ce3e350e-e0fc-40fe-99d8-11e6315f4ecb",
   "metadata": {},
   "outputs": [
    {
     "name": "stdout",
     "output_type": "stream",
     "text": [
      "False\n"
     ]
    }
   ],
   "source": [
    "x = 23\n",
    "y = x\n",
    "z = 23\n",
    "\n",
    "print(x is not z)"
   ]
  },
  {
   "cell_type": "code",
   "execution_count": 4,
   "id": "3b1d64db-f2de-4ac2-a030-f0d388083b8e",
   "metadata": {},
   "outputs": [
    {
     "name": "stdin",
     "output_type": "stream",
     "text": [
      "enter the first nubmber:  10\n",
      "enter the second nubmber:  10\n"
     ]
    },
    {
     "name": "stdout",
     "output_type": "stream",
     "text": [
      "menu\n",
      "1.addition\n",
      "2.substraction\n",
      "3.multiplication\n",
      "4.division\n",
      "5.power\n"
     ]
    },
    {
     "name": "stdin",
     "output_type": "stream",
     "text": [
      "enter the choice of operation(1-5):  1\n"
     ]
    },
    {
     "name": "stdout",
     "output_type": "stream",
     "text": [
      "addition is 20\n"
     ]
    }
   ],
   "source": [
    "num1 = int(input(\"enter the first nubmber: \"))\n",
    "num2 = int(input(\"enter the second nubmber: \"))\n",
    "print(\"menu\")\n",
    "print(\"1.addition\")\n",
    "print(\"2.substraction\")\n",
    "print(\"3.multiplication\")\n",
    "print(\"4.division\")\n",
    "print(\"5.power\")\n",
    "\n",
    "c = int(input(\"enter the choice of operation(1-5): \"))\n",
    "\n",
    "if c == 1:\n",
    "        print(\"addition is\", num1 + num2)\n",
    "elif c == 2:\n",
    "    print(\"substraction is\", num1 - num2)\n",
    "\n",
    "elif c == 3:\n",
    "    print(\"multiplication is\", num1 * num2)\n",
    "\n",
    "elif c == 4:\n",
    "    print(\"division is\", num1 / num2)\n",
    "        \n",
    "elif c == 5:\n",
    "    print(\"power is\", num1 ** num2)\n",
    "\n",
    "else:\n",
    "    print(\"enter the correct operation nimber (1-5)\")"
   ]
  },
  {
   "cell_type": "code",
   "execution_count": 7,
   "id": "00592f68-a9f5-45a0-9d48-2a184cf8a95d",
   "metadata": {},
   "outputs": [
    {
     "name": "stdin",
     "output_type": "stream",
     "text": [
      "Enter an animal name:  dog\n"
     ]
    },
    {
     "name": "stdout",
     "output_type": "stream",
     "text": [
      "bark\n"
     ]
    }
   ],
   "source": [
    "animal = input(\"Enter an animal name: \")\n",
    "\n",
    "if animal == \"dog\":\n",
    "       print(\"bark\")\n",
    "\n",
    "elif animal == \"cat\":\n",
    "         print(\"meow\")\n",
    "\n",
    "elif animal == \"duck\":\n",
    "         print(\"quack\")\n",
    "\n",
    "elif animal == \"cow\": \n",
    "         print(\"moo\")\n",
    "\n",
    "else:\n",
    "     print(\"unknown sound\")"
   ]
  },
  {
   "cell_type": "code",
   "execution_count": 9,
   "id": "4a9092a6-1878-4d63-8d24-c200fabe4aeb",
   "metadata": {},
   "outputs": [
    {
     "name": "stdin",
     "output_type": "stream",
     "text": [
      "Enter a number:  7\n"
     ]
    },
    {
     "name": "stdout",
     "output_type": "stream",
     "text": [
      "Divisible by 7\n"
     ]
    }
   ],
   "source": [
    "num = int(input(\"Enter a number: \"))\n",
    "\n",
    "if num % 3 == 0 and num % 7 == 0:\n",
    "\n",
    "                  print(\"Divisible by both 3 and 7\")\n",
    "\n",
    "elif num % 3 == 0:\n",
    "                  print(\"Divisible by 3\")\n",
    "\n",
    "elif num % 7 == 0:\n",
    "                 print(\"Divisible by 7\")\n",
    "\n",
    "else:  \n",
    "    print(\"Divisible by none\")"
   ]
  },
  {
   "cell_type": "code",
   "execution_count": 11,
   "id": "4d427a2f-34f0-469d-9793-94190c0b1833",
   "metadata": {},
   "outputs": [
    {
     "name": "stdin",
     "output_type": "stream",
     "text": [
      "Enter number of days the book is overdue:  10\n"
     ]
    },
    {
     "name": "stdout",
     "output_type": "stream",
     "text": [
      "Fine is ₹100\n"
     ]
    }
   ],
   "source": [
    "days = int(input(\"Enter number of days the book is overdue: \"))\n",
    "\n",
    "if days <= 0:\n",
    "    print(\"No fine.\")\n",
    "elif days <= 5:\n",
    "    fine = days * 5\n",
    "    print(f\"Fine is ₹{fine}\")\n",
    "elif days <= 10:\n",
    "    fine = days * 10\n",
    "    print(f\"Fine is ₹{fine}\")\n",
    "else:\n",
    "    fine = days * 20\n",
    "    print(f\"Fine is ₹{fine}\")"
   ]
  },
  {
   "cell_type": "code",
   "execution_count": 16,
   "id": "5fa1c109-a186-4e07-8ca0-d954ec3446bd",
   "metadata": {},
   "outputs": [
    {
     "name": "stdout",
     "output_type": "stream",
     "text": [
      "number divisible by 3 from 1 to 50:\n",
      "3\n",
      "6\n",
      "9\n",
      "12\n",
      "15\n",
      "18\n",
      "21\n",
      "24\n",
      "27\n",
      "30\n",
      "33\n",
      "36\n",
      "39\n",
      "42\n",
      "45\n",
      "48\n"
     ]
    }
   ],
   "source": [
    "print(\"number divisible by 3 from 1 to 50:\")\n",
    "for i in range(1,51):\n",
    "    if i % 3 ==0:\n",
    "        print(i)"
   ]
  },
  {
   "cell_type": "code",
   "execution_count": 33,
   "id": "2288187d-7b21-4bde-a00f-a25f725b09d4",
   "metadata": {},
   "outputs": [
    {
     "name": "stdout",
     "output_type": "stream",
     "text": [
      "squares of even numbers from 1 to 18:\n",
      "2\n",
      "4\n",
      "6\n",
      "8\n",
      "10\n",
      "12\n",
      "14\n",
      "16\n",
      "18\n"
     ]
    }
   ],
   "source": [
    "print(\"squares of even numbers from 1 to 18:\")\n",
    "for i in range(1,19):\n",
    "    if i % 2 == 0:\n",
    "         print(i)"
   ]
  },
  {
   "cell_type": "code",
   "execution_count": 34,
   "id": "fdba3210-df49-4ab7-867d-a9d4e9fefa28",
   "metadata": {},
   "outputs": [
    {
     "name": "stdin",
     "output_type": "stream",
     "text": [
      "enter a word hello\n"
     ]
    },
    {
     "name": "stdout",
     "output_type": "stream",
     "text": [
      "h\n",
      "e\n",
      "l\n",
      "l\n",
      "o\n"
     ]
    }
   ],
   "source": [
    "words = input(\"enter a word\")\n",
    "for word in words:\n",
    "       print(word)"
   ]
  },
  {
   "cell_type": "code",
   "execution_count": 51,
   "id": "81f810f8-7f31-4271-929d-69f6143fa95f",
   "metadata": {},
   "outputs": [
    {
     "name": "stdout",
     "output_type": "stream",
     "text": [
      "1\n",
      "8\n",
      "27\n",
      "64\n",
      "125\n"
     ]
    }
   ],
   "source": [
    "for i in range(1,6):\n",
    "    print(f\"{i**3}\")\n",
    "    \n",
    "    "
   ]
  },
  {
   "cell_type": "code",
   "execution_count": 54,
   "id": "755343b0-b9b3-438b-b1f7-641c8be6c99a",
   "metadata": {},
   "outputs": [
    {
     "name": "stdout",
     "output_type": "stream",
     "text": [
      "0\n",
      "1\n",
      "2\n",
      "3\n",
      "4\n",
      "5\n",
      "6\n",
      "7\n",
      "8\n",
      "9\n",
      "10\n"
     ]
    }
   ],
   "source": [
    "i = 0\n",
    "while i <= 10:\n",
    "    print(i)\n",
    "    i += 1"
   ]
  },
  {
   "cell_type": "code",
   "execution_count": null,
   "id": "1b3b380e-08cf-49fa-a04d-7122629d3af8",
   "metadata": {},
   "outputs": [],
   "source": [
    "num = int(input(\"enter a number: \"))\n",
    "factorial = 1\n",
    "i = 1\n",
    "\n",
    "while i <= num:\n",
    "    factorial *= i\n",
    "    i += 1\n",
    "    print(\"factorial of the number is: \","
   ]
  }
 ],
 "metadata": {
  "kernelspec": {
   "display_name": "Python [conda env:base] *",
   "language": "python",
   "name": "conda-base-py"
  },
  "language_info": {
   "codemirror_mode": {
    "name": "ipython",
    "version": 3
   },
   "file_extension": ".py",
   "mimetype": "text/x-python",
   "name": "python",
   "nbconvert_exporter": "python",
   "pygments_lexer": "ipython3",
   "version": "3.13.5"
  }
 },
 "nbformat": 4,
 "nbformat_minor": 5
}
