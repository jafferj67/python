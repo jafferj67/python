{
 "cells": [
  {
   "cell_type": "code",
   "execution_count": 2,
   "id": "ce3e350e-e0fc-40fe-99d8-11e6315f4ecb",
   "metadata": {},
   "outputs": [
    {
     "name": "stdout",
     "output_type": "stream",
     "text": [
      "False\n"
     ]
    }
   ],
   "source": [
    "x = 23\n",
    "y = x\n",
    "z = 23\n",
    "\n",
    "print(x is not z)"
   ]
  },
  {
   "cell_type": "code",
   "execution_count": 4,
   "id": "3b1d64db-f2de-4ac2-a030-f0d388083b8e",
   "metadata": {},
   "outputs": [
    {
     "name": "stdin",
     "output_type": "stream",
     "text": [
      "enter the first nubmber:  10\n",
      "enter the second nubmber:  10\n"
     ]
    },
    {
     "name": "stdout",
     "output_type": "stream",
     "text": [
      "menu\n",
      "1.addition\n",
      "2.substraction\n",
      "3.multiplication\n",
      "4.division\n",
      "5.power\n"
     ]
    },
    {
     "name": "stdin",
     "output_type": "stream",
     "text": [
      "enter the choice of operation(1-5):  1\n"
     ]
    },
    {
     "name": "stdout",
     "output_type": "stream",
     "text": [
      "addition is 20\n"
     ]
    }
   ],
   "source": [
    "num1 = int(input(\"enter the first nubmber: \"))\n",
    "num2 = int(input(\"enter the second nubmber: \"))\n",
    "print(\"menu\")\n",
    "print(\"1.addition\")\n",
    "print(\"2.substraction\")\n",
    "print(\"3.multiplication\")\n",
    "print(\"4.division\")\n",
    "print(\"5.power\")\n",
    "\n",
    "c = int(input(\"enter the choice of operation(1-5): \"))\n",
    "\n",
    "if c == 1:\n",
    "        print(\"addition is\", num1 + num2)\n",
    "elif c == 2:\n",
    "    print(\"substraction is\", num1 - num2)\n",
    "\n",
    "elif c == 3:\n",
    "    print(\"multiplication is\", num1 * num2)\n",
    "\n",
    "elif c == 4:\n",
    "    print(\"division is\", num1 / num2)\n",
    "        \n",
    "elif c == 5:\n",
    "    print(\"power is\", num1 ** num2)\n",
    "\n",
    "else:\n",
    "    print(\"enter the correct operation nimber (1-5)\")"
   ]
  },
  {
   "cell_type": "code",
   "execution_count": 7,
   "id": "00592f68-a9f5-45a0-9d48-2a184cf8a95d",
   "metadata": {},
   "outputs": [
    {
     "name": "stdin",
     "output_type": "stream",
     "text": [
      "Enter an animal name:  dog\n"
     ]
    },
    {
     "name": "stdout",
     "output_type": "stream",
     "text": [
      "bark\n"
     ]
    }
   ],
   "source": [
    "animal = input(\"Enter an animal name: \")\n",
    "\n",
    "if animal == \"dog\":\n",
    "       print(\"bark\")\n",
    "\n",
    "elif animal == \"cat\":\n",
    "         print(\"meow\")\n",
    "\n",
    "elif animal == \"duck\":\n",
    "         print(\"quack\")\n",
    "\n",
    "elif animal == \"cow\": \n",
    "         print(\"moo\")\n",
    "\n",
    "else:\n",
    "     print(\"unknown sound\")"
   ]
  },
  {
   "cell_type": "code",
   "execution_count": 9,
   "id": "4a9092a6-1878-4d63-8d24-c200fabe4aeb",
   "metadata": {},
   "outputs": [
    {
     "name": "stdin",
     "output_type": "stream",
     "text": [
      "Enter a number:  7\n"
     ]
    },
    {
     "name": "stdout",
     "output_type": "stream",
     "text": [
      "Divisible by 7\n"
     ]
    }
   ],
   "source": [
    "num = int(input(\"Enter a number: \"))\n",
    "\n",
    "if num % 3 == 0 and num % 7 == 0:\n",
    "\n",
    "                  print(\"Divisible by both 3 and 7\")\n",
    "\n",
    "elif num % 3 == 0:\n",
    "                  print(\"Divisible by 3\")\n",
    "\n",
    "elif num % 7 == 0:\n",
    "                 print(\"Divisible by 7\")\n",
    "\n",
    "else:  \n",
    "    print(\"Divisible by none\")"
   ]
  },
  {
   "cell_type": "code",
   "execution_count": 11,
   "id": "4d427a2f-34f0-469d-9793-94190c0b1833",
   "metadata": {},
   "outputs": [
    {
     "name": "stdin",
     "output_type": "stream",
     "text": [
      "Enter number of days the book is overdue:  10\n"
     ]
    },
    {
     "name": "stdout",
     "output_type": "stream",
     "text": [
      "Fine is ₹100\n"
     ]
    }
   ],
   "source": [
    "days = int(input(\"Enter number of days the book is overdue: \"))\n",
    "\n",
    "if days <= 0:\n",
    "    print(\"No fine.\")\n",
    "elif days <= 5:\n",
    "    fine = days * 5\n",
    "    print(f\"Fine is ₹{fine}\")\n",
    "elif days <= 10:\n",
    "    fine = days * 10\n",
    "    print(f\"Fine is ₹{fine}\")\n",
    "else:\n",
    "    fine = days * 20\n",
    "    print(f\"Fine is ₹{fine}\")"
   ]
  },
  {
   "cell_type": "code",
   "execution_count": 16,
   "id": "5fa1c109-a186-4e07-8ca0-d954ec3446bd",
   "metadata": {},
   "outputs": [
    {
     "name": "stdout",
     "output_type": "stream",
     "text": [
      "number divisible by 3 from 1 to 50:\n",
      "3\n",
      "6\n",
      "9\n",
      "12\n",
      "15\n",
      "18\n",
      "21\n",
      "24\n",
      "27\n",
      "30\n",
      "33\n",
      "36\n",
      "39\n",
      "42\n",
      "45\n",
      "48\n"
     ]
    }
   ],
   "source": [
    "print(\"number divisible by 3 from 1 to 50:\")\n",
    "for i in range(1,51):\n",
    "    if i % 3 ==0:\n",
    "        print(i)"
   ]
  },
  {
   "cell_type": "code",
   "execution_count": 33,
   "id": "2288187d-7b21-4bde-a00f-a25f725b09d4",
   "metadata": {},
   "outputs": [
    {
     "name": "stdout",
     "output_type": "stream",
     "text": [
      "squares of even numbers from 1 to 18:\n",
      "2\n",
      "4\n",
      "6\n",
      "8\n",
      "10\n",
      "12\n",
      "14\n",
      "16\n",
      "18\n"
     ]
    }
   ],
   "source": [
    "print(\"squares of even numbers from 1 to 18:\")\n",
    "for i in range(1,19):\n",
    "    if i % 2 == 0:\n",
    "         print(i)"
   ]
  },
  {
   "cell_type": "code",
   "execution_count": 34,
   "id": "fdba3210-df49-4ab7-867d-a9d4e9fefa28",
   "metadata": {},
   "outputs": [
    {
     "name": "stdin",
     "output_type": "stream",
     "text": [
      "enter a word hello\n"
     ]
    },
    {
     "name": "stdout",
     "output_type": "stream",
     "text": [
      "h\n",
      "e\n",
      "l\n",
      "l\n",
      "o\n"
     ]
    }
   ],
   "source": [
    "words = input(\"enter a word\")\n",
    "for word in words:\n",
    "       print(word)"
   ]
  },
  {
   "cell_type": "code",
   "execution_count": 51,
   "id": "81f810f8-7f31-4271-929d-69f6143fa95f",
   "metadata": {},
   "outputs": [
    {
     "name": "stdout",
     "output_type": "stream",
     "text": [
      "1\n",
      "8\n",
      "27\n",
      "64\n",
      "125\n"
     ]
    }
   ],
   "source": [
    "for i in range(1,6):\n",
    "    print(f\"{i**3}\")\n",
    "    \n",
    "    "
   ]
  },
  {
   "cell_type": "code",
   "execution_count": 54,
   "id": "755343b0-b9b3-438b-b1f7-641c8be6c99a",
   "metadata": {},
   "outputs": [
    {
     "name": "stdout",
     "output_type": "stream",
     "text": [
      "0\n",
      "1\n",
      "2\n",
      "3\n",
      "4\n",
      "5\n",
      "6\n",
      "7\n",
      "8\n",
      "9\n",
      "10\n"
     ]
    }
   ],
   "source": [
    "i = 0\n",
    "while i <= 10:\n",
    "    print(i)\n",
    "    i += 1"
   ]
  },
  {
   "cell_type": "code",
   "execution_count": 60,
   "id": "1b3b380e-08cf-49fa-a04d-7122629d3af8",
   "metadata": {},
   "outputs": [
    {
     "name": "stdin",
     "output_type": "stream",
     "text": [
      "enter a number:  4\n"
     ]
    },
    {
     "name": "stdout",
     "output_type": "stream",
     "text": [
      "factorial of the number is:  1\n",
      "factorial of the number is:  2\n",
      "factorial of the number is:  6\n",
      "factorial of the number is:  24\n"
     ]
    }
   ],
   "source": [
    "num = int(input(\"enter a number: \"))\n",
    "fact = 1\n",
    "i = 1\n",
    "\n",
    "while i <= num:\n",
    "    fact *= i\n",
    "    i += 1\n",
    "    print(\"factorial of the number is: \", fact)"
   ]
  },
  {
   "cell_type": "code",
   "execution_count": 122,
   "id": "ad470cd0-0e8a-430c-a18f-5ca8999eb9ec",
   "metadata": {},
   "outputs": [
    {
     "name": "stdout",
     "output_type": "stream",
     "text": [
      "1\n",
      "3\n",
      "5\n",
      "7\n",
      "9\n"
     ]
    }
   ],
   "source": [
    "for i in range(1,10):\n",
    "    if i % 2 == 0:\n",
    "        continue\n",
    "    print(i)"
   ]
  },
  {
   "cell_type": "code",
   "execution_count": 125,
   "id": "7d96c5fe-cd6e-436e-91d3-50de0bb3ff93",
   "metadata": {},
   "outputs": [
    {
     "name": "stdout",
     "output_type": "stream",
     "text": [
      "1\n",
      "2\n",
      "3\n",
      "4\n",
      "5\n",
      "6\n"
     ]
    }
   ],
   "source": [
    "for i in range(1,21):\n",
    "    if i % 7 == 0:\n",
    "        break\n",
    "    print(i)"
   ]
  },
  {
   "cell_type": "code",
   "execution_count": 139,
   "id": "60170142-fae3-4f79-b52f-b400284fbef3",
   "metadata": {},
   "outputs": [
    {
     "name": "stdout",
     "output_type": "stream",
     "text": [
      "50\n",
      "55\n",
      "60\n",
      "65\n",
      "70\n",
      "75\n",
      "80\n",
      "85\n",
      "90\n",
      "95\n",
      "100\n"
     ]
    }
   ],
   "source": [
    "for i in range(50,101):\n",
    "    if i % 5 == 0:\n",
    "        print(i)\n",
    "  \n",
    "pass"
   ]
  },
  {
   "cell_type": "code",
   "execution_count": 143,
   "id": "ffbe3639-5b50-48a7-9c3d-9f25a7b2dd28",
   "metadata": {},
   "outputs": [
    {
     "data": {
      "text/plain": [
       "7"
      ]
     },
     "execution_count": 143,
     "metadata": {},
     "output_type": "execute_result"
    }
   ],
   "source": [
    "def add(x,y):\n",
    "   return x + y\n",
    "\n",
    "add(2,5)"
   ]
  },
  {
   "cell_type": "code",
   "execution_count": 146,
   "id": "9ce98455-4d0c-4703-aff3-77dc1e6e3783",
   "metadata": {},
   "outputs": [
    {
     "name": "stdout",
     "output_type": "stream",
     "text": [
      "hello roshni\n"
     ]
    }
   ],
   "source": [
    "def hello(x):\n",
    "     print(\"hello\",x)\n",
    "hello(\"roshni\")"
   ]
  },
  {
   "cell_type": "code",
   "execution_count": 151,
   "id": "44dd3535-1043-4009-82ff-5649301235a7",
   "metadata": {},
   "outputs": [
    {
     "name": "stdout",
     "output_type": "stream",
     "text": [
      "4\n"
     ]
    }
   ],
   "source": [
    "def square(x):\n",
    "     print(x ** 2)\n",
    "square(2)"
   ]
  },
  {
   "cell_type": "code",
   "execution_count": 158,
   "id": "d482eb1d-8b40-4dc0-84b5-7a5df2d6a675",
   "metadata": {},
   "outputs": [
    {
     "name": "stdout",
     "output_type": "stream",
     "text": [
      "50\n"
     ]
    }
   ],
   "source": [
    "def area_of_rectangle(l,b):\n",
    "    print(l * b)\n",
    "area_of_rectangle(10,5)"
   ]
  },
  {
   "cell_type": "code",
   "execution_count": 189,
   "id": "4af22dfe-8843-4a0b-a8ec-ee4203bebe57",
   "metadata": {},
   "outputs": [
    {
     "name": "stdout",
     "output_type": "stream",
     "text": [
      "2\n",
      "4\n",
      "6\n",
      "8\n",
      "10\n",
      "12\n",
      "14\n",
      "16\n",
      "18\n",
      "20\n",
      "22\n",
      "24\n",
      "26\n",
      "28\n",
      "30\n",
      "32\n",
      "34\n",
      "36\n",
      "38\n",
      "40\n",
      "42\n",
      "44\n",
      "46\n",
      "48\n",
      "50\n"
     ]
    }
   ],
   "source": [
    "def even():\n",
    "    for i in range(1,51):\n",
    "        if i % 2 == 0:\n",
    "            print(i)\n",
    "even()    "
   ]
  },
  {
   "cell_type": "code",
   "execution_count": 190,
   "id": "b984e6fd-18ae-4f25-8a73-5c4ec3ad41a2",
   "metadata": {},
   "outputs": [
    {
     "name": "stdout",
     "output_type": "stream",
     "text": [
      "largest is b\n",
      "12 34 5\n"
     ]
    }
   ],
   "source": [
    "def find_largest(a, b, c):\n",
    "    if a >= b and a >= c:\n",
    "        print(\"largest is a\")\n",
    "    elif b >= a and b >= c:\n",
    "        print(\"largest is b\")\n",
    "    else:\n",
    "        print(\"largest is c\")\n",
    "    print(a,b,c)\n",
    "find_largest(12,34,5)"
   ]
  },
  {
   "cell_type": "code",
   "execution_count": 192,
   "id": "1ca9827b-55c3-48d3-ae71-a9e859e38cd6",
   "metadata": {},
   "outputs": [
    {
     "name": "stdout",
     "output_type": "stream",
     "text": [
      "78.5\n"
     ]
    }
   ],
   "source": [
    "def area_of_circle(x):\n",
    "    pi = 3.14\n",
    "    area = pi * x ** 2\n",
    "    print(area)\n",
    "area_of_circle(5)"
   ]
  },
  {
   "cell_type": "code",
   "execution_count": 196,
   "id": "02168960-0b90-44dd-af14-e3aae52d6a35",
   "metadata": {},
   "outputs": [],
   "source": [
    "def count_vowels(text):\n",
    "    vowels = \"aeiouAEIOU\"\n",
    "          "
   ]
  },
  {
   "cell_type": "code",
   "execution_count": 203,
   "id": "f8a85a19-d113-4c04-9a84-7b82e5f4fa54",
   "metadata": {},
   "outputs": [
    {
     "ename": "SyntaxError",
     "evalue": "invalid syntax (2483769537.py, line 2)",
     "output_type": "error",
     "traceback": [
      "\u001b[1;36m  Cell \u001b[1;32mIn[203], line 2\u001b[1;36m\u001b[0m\n\u001b[1;33m    if n == 0, 1:\u001b[0m\n\u001b[1;37m             ^\u001b[0m\n\u001b[1;31mSyntaxError\u001b[0m\u001b[1;31m:\u001b[0m invalid syntax\n"
     ]
    }
   ],
   "source": [
    "def fib(n):\n",
    "    if n == 0:\n",
    "        return 0\n",
    "    elif n == 1:\n",
    "        return 1\n",
    "    else:\n",
    "    return fib(n-1) + fib(n-2)\n",
    "fib(12)"
   ]
  },
  {
   "cell_type": "code",
   "execution_count": 5,
   "id": "7c3451b4-66e0-4b5a-8205-b1af527062b1",
   "metadata": {},
   "outputs": [
    {
     "name": "stdin",
     "output_type": "stream",
     "text": [
      "enter a number:  15\n"
     ]
    },
    {
     "name": "stdout",
     "output_type": "stream",
     "text": [
      "the number is a multiple of 3 and 5, but not divisible by 7.\n"
     ]
    }
   ],
   "source": [
    "n = int(input(\"enter a number: \"))\n",
    "if n % 3 == 0 and n % 5 == 0 and n % 7 != 0:\n",
    "    print(\"the number is a multiple of 3 and 5, but not divisible by 7.\")\n",
    "else:\n",
    "    print(\"condition is not satisfied\")"
   ]
  },
  {
   "cell_type": "code",
   "execution_count": 9,
   "id": "4ea0c3e3-3728-446e-8f74-c99bb411c3e3",
   "metadata": {},
   "outputs": [
    {
     "name": "stdin",
     "output_type": "stream",
     "text": [
      "enter total bill amunt:  2750\n"
     ]
    },
    {
     "name": "stdout",
     "output_type": "stream",
     "text": [
      "final payable amount\n"
     ]
    }
   ],
   "source": [
    "bill = float(input(\"enter total bill amunt: \"))\n",
    "\n",
    "if bill > 5000:\n",
    "    discount = 0.20\n",
    "elif 2500 <= 5000:\n",
    "    discount = 0.10\n",
    "elif 1000 <= 2500:\n",
    "    discount = 0.05\n",
    "else:\n",
    "    discount = 0.0\n",
    "\n",
    "amount = (bill * discount)\n",
    "print(\"final payable amount\")"
   ]
  },
  {
   "cell_type": "code",
   "execution_count": null,
   "id": "0f326e9e-fbbf-4052-84d8-1fed546088ee",
   "metadata": {},
   "outputs": [],
   "source": [
    "def prime(num):\n",
    "    for i in range(51,101):\n",
    "    if num % i == 0:\n",
    "        for i in range(2, int(num**0.5 + 1):"
   ]
  },
  {
   "cell_type": "code",
   "execution_count": 12,
   "id": "c60f9954-be0a-472d-9ef9-1fbe94fd1a12",
   "metadata": {},
   "outputs": [
    {
     "ename": "SyntaxError",
     "evalue": "invalid syntax (3648316462.py, line 5)",
     "output_type": "error",
     "traceback": [
      "\u001b[1;36m  Cell \u001b[1;32mIn[12], line 5\u001b[1;36m\u001b[0m\n\u001b[1;33m    if attendance > 75 and\u001b[0m\n\u001b[1;37m                          ^\u001b[0m\n\u001b[1;31mSyntaxError\u001b[0m\u001b[1;31m:\u001b[0m invalid syntax\n"
     ]
    }
   ],
   "source": [
    "attendance = float(input(\"enter attendance percentage: \"))\n",
    "internal_score = int(input(\"enter internal score: \"))\n",
    "failed_subject = int(input(\"enter number of subject fail: \"))\n",
    "\n",
    "if attendance > 75 and\n",
    "internal_score > 35 and\n",
    "failed_subject == 0:\n",
    "    print(\"eligible for certificate\")\n",
    "else:\n",
    "    print(\"not eligible for certificate\")\n",
    "                   "
   ]
  },
  {
   "cell_type": "code",
   "execution_count": 13,
   "id": "27c13562-7c00-44b6-9657-7abe60c08b67",
   "metadata": {},
   "outputs": [
    {
     "name": "stdin",
     "output_type": "stream",
     "text": [
      "happy, sad, angry, excited:  sad\n"
     ]
    },
    {
     "name": "stdout",
     "output_type": "stream",
     "text": [
      "its ok to feel sad sometimes 😔\n"
     ]
    }
   ],
   "source": [
    "def mood_bot():\n",
    "    mood = input(\"happy, sad, angry, excited: \")\n",
    "    if mood == \"happy\":\n",
    "        print(\"yes ! keep smiling 😊\")\n",
    "    elif mood == \"sad\":\n",
    "        print(\"its ok to feel sad sometimes 😔\")\n",
    "    elif mood == \"angry\":\n",
    "        print(\"take a deep breath and relax 🦾\")\n",
    "    elif mood == \"excited\":\n",
    "        print(\"yay! enjoy the excitement 🎉\")\n",
    "    else:\n",
    "        print(\"hmm, i couldn't understand your mood. but i hope you have a great day!\")\n",
    "mood_bot()"
   ]
  },
  {
   "cell_type": "code",
   "execution_count": 27,
   "id": "f3b1c724-bd99-417e-bb41-e23af183fced",
   "metadata": {},
   "outputs": [
    {
     "name": "stdout",
     "output_type": "stream",
     "text": [
      "divisible by both 4 and 6\n",
      "not divisible by both 4 and 6\n",
      "divisible by both 4 and 6\n",
      "divisible by both 4 and 6\n",
      "not divisible by both 4 and 6\n",
      "not divisible by both 4 and 6\n"
     ]
    }
   ],
   "source": [
    "numbers = [12, 25, 36, 48, 55, 65]\n",
    "\n",
    "for num in numbers:\n",
    "    if num % 4 == 0 and num % 6 == 0:\n",
    "        print(\"enter number is divisible by both 4 and 6\")\n",
    "    else:\n",
    "        print(\"not divisible by both 4 and "
   ]
  },
  {
   "cell_type": "code",
   "execution_count": 33,
   "id": "b78c688e-f977-408a-b45f-a84a8cbb67ba",
   "metadata": {},
   "outputs": [
    {
     "name": "stdin",
     "output_type": "stream",
     "text": [
      "enter your weight in kg:  30\n",
      "enter your height in meters:  40\n"
     ]
    },
    {
     "name": "stdout",
     "output_type": "stream",
     "text": [
      "your bmi is\n",
      "underweight\n"
     ]
    }
   ],
   "source": [
    "weight = float(input(\"enter your weight in kg: \"))\n",
    "height = float(input(\"enter your height in meters: \"))\n",
    "bmi = weight / (height ** 2)\n",
    "print(\"your bmi is\")\n",
    "\n",
    "if bmi < 18.5:\n",
    "    print(\"underweight\")\n",
    "elif bmi < 25:\n",
    "    print(\"normal\")\n",
    "elif bmi < 30:\n",
    "    print(\"overweight\")\n",
    "else:\n",
    "    print(\"obese\")"
   ]
  },
  {
   "cell_type": "code",
   "execution_count": 48,
   "id": "4b39c15f-d1ee-4f71-8be0-26578e946f14",
   "metadata": {},
   "outputs": [
    {
     "name": "stdin",
     "output_type": "stream",
     "text": [
      "rock, paper, scissors:  rock\n",
      "rock, paper, scissors:  paper\n"
     ]
    },
    {
     "name": "stdout",
     "output_type": "stream",
     "text": [
      "player 2 won\n"
     ]
    }
   ],
   "source": [
    "player1 = input(\"rock, paper, scissors: \")\n",
    "player2 = input(\"rock, paper, scissors: \")\n",
    "\n",
    "if player1 == \"rock\" and player2 == \"paper\":\n",
    "    print(\"player 2 won\")\n",
    "elif player1 == \"paper\" and player2 == \"scissors\":\n",
    "    print(\"player 2 won\")\n",
    "elif player1 == \"scissors\" and player2 == \"rock\":\n",
    "    print(\"player 2 won\")\n",
    "elif player1 == player2:\n",
    "    print(\"tie\")\n",
    "else:\n",
    "    print(\"player 1 won\")\n",
    "    "
   ]
  },
  {
   "cell_type": "code",
   "execution_count": 50,
   "id": "e45de772-b3a6-418a-9938-9c8a4de673af",
   "metadata": {},
   "outputs": [
    {
     "name": "stdin",
     "output_type": "stream",
     "text": [
      "enter first list of element separated by space:  13\n",
      "enter second list of element separated by space:  53\n"
     ]
    },
    {
     "name": "stdout",
     "output_type": "stream",
     "text": [
      "the list have different elements,\n"
     ]
    }
   ],
   "source": [
    "list1 = input(\"enter first list of element separated by space: \")\n",
    "list2 = input(\"enter second list of element separated by space: \")\n",
    "if set(list1) == set(list2):\n",
    "    print(\"both lists are have the same set of elements.\")\n",
    "else:\n",
    "    print(\"the list have different elements,\")"
   ]
  },
  {
   "cell_type": "code",
   "execution_count": 52,
   "id": "6b8c271d-91bf-4a6c-948f-634f787a05c4",
   "metadata": {},
   "outputs": [
    {
     "name": "stdin",
     "output_type": "stream",
     "text": [
      "enter the password:  1234\n"
     ]
    },
    {
     "name": "stdout",
     "output_type": "stream",
     "text": [
      "unlocked\n"
     ]
    }
   ],
   "source": [
    "pin = \"1234\"\n",
    "attempts = 3\n",
    "\n",
    "for i in range(attempts):\n",
    "    password = input(\"enter the password: \")\n",
    "    if password == pin:\n",
    "         print(\"unlocked\")\n",
    "         break\n",
    "    else:\n",
    "         print(\"incorrect password\")\n",
    "else:\n",
    "    print(\"access denied\")"
   ]
  },
  {
   "cell_type": "code",
   "execution_count": null,
   "id": "61190a15-d937-4cb3-b63a-c545ac69aa30",
   "metadata": {},
   "outputs": [],
   "source": []
  }
 ],
 "metadata": {
  "kernelspec": {
   "display_name": "Python [conda env:base] *",
   "language": "python",
   "name": "conda-base-py"
  },
  "language_info": {
   "codemirror_mode": {
    "name": "ipython",
    "version": 3
   },
   "file_extension": ".py",
   "mimetype": "text/x-python",
   "name": "python",
   "nbconvert_exporter": "python",
   "pygments_lexer": "ipython3",
   "version": "3.13.5"
  }
 },
 "nbformat": 4,
 "nbformat_minor": 5
}
