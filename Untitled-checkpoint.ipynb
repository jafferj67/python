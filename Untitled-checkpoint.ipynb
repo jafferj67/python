{
 "cells": [
  {
   "cell_type": "code",
   "execution_count": 2,
   "id": "ce3e350e-e0fc-40fe-99d8-11e6315f4ecb",
   "metadata": {},
   "outputs": [
    {
     "name": "stdout",
     "output_type": "stream",
     "text": [
      "False\n"
     ]
    }
   ],
   "source": [
    "x = 23\n",
    "y = x\n",
    "z = 23\n",
    "\n",
    "print(x is not z)"
   ]
  },
  {
   "cell_type": "code",
   "execution_count": 4,
   "id": "3b1d64db-f2de-4ac2-a030-f0d388083b8e",
   "metadata": {},
   "outputs": [
    {
     "name": "stdin",
     "output_type": "stream",
     "text": [
      "enter the first nubmber:  10\n",
      "enter the second nubmber:  10\n"
     ]
    },
    {
     "name": "stdout",
     "output_type": "stream",
     "text": [
      "menu\n",
      "1.addition\n",
      "2.substraction\n",
      "3.multiplication\n",
      "4.division\n",
      "5.power\n"
     ]
    },
    {
     "name": "stdin",
     "output_type": "stream",
     "text": [
      "enter the choice of operation(1-5):  1\n"
     ]
    },
    {
     "name": "stdout",
     "output_type": "stream",
     "text": [
      "addition is 20\n"
     ]
    }
   ],
   "source": [
    "num1 = int(input(\"enter the first nubmber: \"))\n",
    "num2 = int(input(\"enter the second nubmber: \"))\n",
    "print(\"menu\")\n",
    "print(\"1.addition\")\n",
    "print(\"2.substraction\")\n",
    "print(\"3.multiplication\")\n",
    "print(\"4.division\")\n",
    "print(\"5.power\")\n",
    "\n",
    "c = int(input(\"enter the choice of operation(1-5): \"))\n",
    "\n",
    "if c == 1:\n",
    "        print(\"addition is\", num1 + num2)\n",
    "elif c == 2:\n",
    "    print(\"substraction is\", num1 - num2)\n",
    "\n",
    "elif c == 3:\n",
    "    print(\"multiplication is\", num1 * num2)\n",
    "\n",
    "elif c == 4:\n",
    "    print(\"division is\", num1 / num2)\n",
    "        \n",
    "elif c == 5:\n",
    "    print(\"power is\", num1 ** num2)\n",
    "\n",
    "else:\n",
    "    print(\"enter the correct operation nimber (1-5)\")"
   ]
  },
  {
   "cell_type": "code",
   "execution_count": 7,
   "id": "00592f68-a9f5-45a0-9d48-2a184cf8a95d",
   "metadata": {},
   "outputs": [
    {
     "name": "stdin",
     "output_type": "stream",
     "text": [
      "Enter an animal name:  dog\n"
     ]
    },
    {
     "name": "stdout",
     "output_type": "stream",
     "text": [
      "bark\n"
     ]
    }
   ],
   "source": [
    "animal = input(\"Enter an animal name: \")\n",
    "\n",
    "if animal == \"dog\":\n",
    "       print(\"bark\")\n",
    "\n",
    "elif animal == \"cat\":\n",
    "         print(\"meow\")\n",
    "\n",
    "elif animal == \"duck\":\n",
    "         print(\"quack\")\n",
    "\n",
    "elif animal == \"cow\": \n",
    "         print(\"moo\")\n",
    "\n",
    "else:\n",
    "     print(\"unknown sound\")"
   ]
  },
  {
   "cell_type": "code",
   "execution_count": 9,
   "id": "4a9092a6-1878-4d63-8d24-c200fabe4aeb",
   "metadata": {},
   "outputs": [
    {
     "name": "stdin",
     "output_type": "stream",
     "text": [
      "Enter a number:  7\n"
     ]
    },
    {
     "name": "stdout",
     "output_type": "stream",
     "text": [
      "Divisible by 7\n"
     ]
    }
   ],
   "source": [
    "num = int(input(\"Enter a number: \"))\n",
    "\n",
    "if num % 3 == 0 and num % 7 == 0:\n",
    "\n",
    "                  print(\"Divisible by both 3 and 7\")\n",
    "\n",
    "elif num % 3 == 0:\n",
    "                  print(\"Divisible by 3\")\n",
    "\n",
    "elif num % 7 == 0:\n",
    "                 print(\"Divisible by 7\")\n",
    "\n",
    "else:  \n",
    "    print(\"Divisible by none\")"
   ]
  },
  {
   "cell_type": "code",
   "execution_count": null,
   "id": "4d427a2f-34f0-469d-9793-94190c0b1833",
   "metadata": {},
   "outputs": [],
   "source": [
    "days = int(input(\"Enter number of days the book is overdue: \"))\n",
    "\n",
    "if days <= 0:\n",
    "    print(\"No fine.\")\n",
    "elif days <= 5:\n",
    "    fine = days * 5\n",
    "    print(f\"Fine is ₹{fine}\")\n",
    "elif days <= 10:\n",
    "    fine = days * 10\n",
    "    print(f\"Fine is ₹{fine}\")\n",
    "else:\n",
    "    fine = days * 20\n",
    "    print(f\"Fine is ₹{fine}\")"
   ]
  },
  {
   "cell_type": "code",
   "execution_count": null,
   "id": "5fa1c109-a186-4e07-8ca0-d954ec3446bd",
   "metadata": {},
   "outputs": [],
   "source": []
  }
 ],
 "metadata": {
  "kernelspec": {
   "display_name": "Python [conda env:base] *",
   "language": "python",
   "name": "conda-base-py"
  },
  "language_info": {
   "codemirror_mode": {
    "name": "ipython",
    "version": 3
   },
   "file_extension": ".py",
   "mimetype": "text/x-python",
   "name": "python",
   "nbconvert_exporter": "python",
   "pygments_lexer": "ipython3",
   "version": "3.13.5"
  }
 },
 "nbformat": 4,
 "nbformat_minor": 5
}
